{
 "cells": [
  {
   "cell_type": "code",
   "execution_count": 8,
   "id": "aa097480",
   "metadata": {},
   "outputs": [
    {
     "name": "stdout",
     "output_type": "stream",
     "text": [
      "N,K 의값 : 20 3\n",
      "최소 횟수 : 5\n"
     ]
    }
   ],
   "source": [
    "n,k = input(\"N,K 의값 : \").split(\" \")\n",
    "N = int(n)\n",
    "K = int(k)\n",
    "count=0\n",
    "while(N!=1):\n",
    "    if N%K==0:\n",
    "        N=N/K\n",
    "        count=count+1\n",
    "    else:\n",
    "        N=N-1\n",
    "        count= count+1\n",
    "print(\"최소 횟수 :\",count)"
   ]
  },
  {
   "cell_type": "code",
   "execution_count": null,
   "id": "09fe28d8",
   "metadata": {},
   "outputs": [],
   "source": []
  }
 ],
 "metadata": {
  "kernelspec": {
   "display_name": "Python 3 (ipykernel)",
   "language": "python",
   "name": "python3"
  },
  "language_info": {
   "codemirror_mode": {
    "name": "ipython",
    "version": 3
   },
   "file_extension": ".py",
   "mimetype": "text/x-python",
   "name": "python",
   "nbconvert_exporter": "python",
   "pygments_lexer": "ipython3",
   "version": "3.9.7"
  }
 },
 "nbformat": 4,
 "nbformat_minor": 5
}
