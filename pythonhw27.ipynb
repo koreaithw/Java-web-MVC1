{
  "nbformat": 4,
  "nbformat_minor": 0,
  "metadata": {
    "colab": {
      "name": "pythonhw27.ipynb",
      "provenance": [],
      "collapsed_sections": [],
      "authorship_tag": "ABX9TyPAZzzv1y8wvWCnUBe3bVcJ",
      "include_colab_link": true
    },
    "kernelspec": {
      "name": "python3",
      "display_name": "Python 3"
    },
    "language_info": {
      "name": "python"
    }
  },
  "cells": [
    {
      "cell_type": "markdown",
      "metadata": {
        "id": "view-in-github",
        "colab_type": "text"
      },
      "source": [
        "<a href=\"https://colab.research.google.com/github/koreaithw/javaadv/blob/main/pythonhw27.ipynb\" target=\"_parent\"><img src=\"https://colab.research.google.com/assets/colab-badge.svg\" alt=\"Open In Colab\"/></a>"
      ]
    },
    {
      "cell_type": "code",
      "source": [
        "n = int(input(\"수열의 갯수 입력:\"))  #수열의 갯수 입력\n",
        "a=[]                                  # 빈 리스트 생성 \n",
        "for i in range(n):                    # 리스트에 수열의 갯수 만큼 숫자 입력\n",
        "  a.append(int(input()))\n",
        "def revSorted(a):                     #내림차순 함수 생성\n",
        "  for i in range(len(a)-1):         # 기준점.\n",
        "    for j in range(i+1,len(a)):     #비교대상\n",
        "      if a[i]<a[j]:                 #큰 값을 앞으로 교체\n",
        "        a[i],a[j] = a[j],a[i]\n",
        "      else:\n",
        "        pass\n",
        "revSorted(a)                        #함수 활성화\n",
        "for i in a:                         #리스트 공백으로 구분 출력\n",
        "  print(i,end=\" \")\n"
      ],
      "metadata": {
        "colab": {
          "base_uri": "https://localhost:8080/"
        },
        "id": "xz9sdqxBKJ9v",
        "outputId": "e7d63b19-b1a1-4ef7-9b57-d67a81af06c7"
      },
      "execution_count": 8,
      "outputs": [
        {
          "output_type": "stream",
          "name": "stdout",
          "text": [
            "수열의 갯수 입력:3\n",
            "15\n",
            "27\n",
            "12\n",
            "27 15 12 "
          ]
        }
      ]
    }
  ]
}