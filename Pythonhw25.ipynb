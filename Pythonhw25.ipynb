{
  "nbformat": 4,
  "nbformat_minor": 0,
  "metadata": {
    "colab": {
      "name": "Pythonhw25.ipynb",
      "provenance": [],
      "collapsed_sections": [],
      "authorship_tag": "ABX9TyMBm3snE+se2eiu99n7vlll",
      "include_colab_link": true
    },
    "kernelspec": {
      "name": "python3",
      "display_name": "Python 3"
    },
    "language_info": {
      "name": "python"
    }
  },
  "cells": [
    {
      "cell_type": "markdown",
      "metadata": {
        "id": "view-in-github",
        "colab_type": "text"
      },
      "source": [
        "<a href=\"https://colab.research.google.com/github/koreaithw/javaadv/blob/main/Pythonhw25.ipynb\" target=\"_parent\"><img src=\"https://colab.research.google.com/assets/colab-badge.svg\" alt=\"Open In Colab\"/></a>"
      ]
    },
    {
      "cell_type": "code",
      "execution_count": 1,
      "metadata": {
        "colab": {
          "base_uri": "https://localhost:8080/"
        },
        "id": "Keps_E1pFGx-",
        "outputId": "acbb51dd-5787-4371-9b02-15d3aff22f5e"
      },
      "outputs": [
        {
          "output_type": "stream",
          "name": "stdout",
          "text": [
            "0\n",
            "0\n",
            "-1\n",
            "1\n",
            "-1\n"
          ]
        }
      ],
      "source": [
        "class CompareVersion:\n",
        "  def com_version(self, version1,version2): #버전 1과 2를 비교하는 함수 생성\n",
        "    v1 = version1.split(\".\")                # . 을 기준으로 나눠서 리스트에 담음\n",
        "    v2 = version2.split(\".\")                # 마찬가지 \n",
        "    N1 = len(v1)#2                          #버전의 수정 정도의 길이 \n",
        "    N2 = len(v2)#2                          #버전의 수정 정도의 길이\n",
        "    for i in range(max(N1,N2)):  #0~max(N1,N2)까지 #2 i=0,1     #길이가 더 긴거 까지 비교하기 위해서\n",
        "      n1 =0 if i >=N1 else int(v1[i])  # 둘이 길이가 맞지 않을 경우 \n",
        "      n2 =0 if i >=N2 else int(v2[i])  # 0과 비교하도록 만듬\n",
        "      if n1>n2:                        # 버전 비교\n",
        "        return 1                       # 버전 1이 클때 1\n",
        "      elif n1<n2:                      # 버전 2가 클때 -1\n",
        "        return -1\n",
        "    return 0                           # 나머지 경우 0 출력\n",
        "\n",
        "c = CompareVersion()\n",
        "print(c.com_version('1.01','1.001'))\n",
        "print(c.com_version('1.0','1.0.0'))\n",
        "print(c.com_version('0.1','1.1'))\n",
        "print(c.com_version('1.0.1','1'))\n",
        "print(c.com_version('7.5.2.4','7.5.3'))"
      ]
    }
  ]
}