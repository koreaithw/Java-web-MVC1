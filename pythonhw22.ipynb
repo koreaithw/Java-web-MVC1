{
  "nbformat": 4,
  "nbformat_minor": 0,
  "metadata": {
    "colab": {
      "name": "pythonhw22.ipynb",
      "provenance": [],
      "collapsed_sections": [],
      "authorship_tag": "ABX9TyOZPc8N6J5GsPMxytNKic5U",
      "include_colab_link": true
    },
    "kernelspec": {
      "name": "python3",
      "display_name": "Python 3"
    },
    "language_info": {
      "name": "python"
    }
  },
  "cells": [
    {
      "cell_type": "markdown",
      "metadata": {
        "id": "view-in-github",
        "colab_type": "text"
      },
      "source": [
        "<a href=\"https://colab.research.google.com/github/koreaithw/javaadv/blob/main/pythonhw22.ipynb\" target=\"_parent\"><img src=\"https://colab.research.google.com/assets/colab-badge.svg\" alt=\"Open In Colab\"/></a>"
      ]
    },
    {
      "cell_type": "code",
      "execution_count": null,
      "metadata": {
        "id": "U8Cb96CA99WJ"
      },
      "outputs": [],
      "source": [
        "여행가 A는 N * N 크기의 정사각형 공간위에 서 있다. 이 공간은 1 * 1 크기의\n",
        "정사각형으로 나누어져 있다. 가정 왼쪽 위 좌표는 (1,1)이며, 가장 오른쪽 아래 좌표는\n",
        "(N,N)에 해당한다. 여행가 A는 상,하,좌,우 방향으로 이동할 수 있으며, 시작 좌표는 항상\n",
        "(1,1)이다, 우리 앞에는 여행가 A가 이동할 계획이 적힌 계획서가 놓여 있다. \n",
        "계획서에는 하나의 줄에 띄어쓰기를 기준으로 하여 L,R,U,D 중 하나의 문자가 반복적으로\n",
        "적혀 있다. 각 문자의 의미는 다음과 같다. \n",
        "L : 왼쪽으로 한 칸 이동 R : 오른쪽으로 한 칸 이동\n",
        "U : 위로 한 칸 이동 D : 아래로 한 칸 이동\n",
        "이 때 여행가 A가 N*N 크기의 정사각형 공간을 벗어나는 움직임은 무시된다. 예를 들어, \n",
        "(1,1)의 위치에서 L혹은 U를 만나면 무시된다. \n",
        "입력 조건 : 첫째 줄에 공간의 크기를 나타내는 N이 주어진다(1<=N <=100)\n",
        "둘째 줄에 여행가 A가 이동할 계획서 내용이 주어진다 (1<=이동횟수<=100)\n",
        "출력 조건 : 첫째 줄에 여행가 A가 최종적으로 도착할 지점의 좌표(X,Y)를 공백으로\n",
        "구분하여 출력한다."
      ]
    },
    {
      "cell_type": "code",
      "source": [
        "n= int(input(\"공간의 크기 입력:\"))\n",
        "x,y = 1,1                                    # x와 y의 시작 좌표값\n",
        "plans = input(\"이동 계획 작성:\").split(\" \")  # 입력값을 공백으로 분리한후 plans의 리스트에 넣음\n",
        "for i in range(len(plans)):                  # 이동한 만큼 검색\n",
        "  if (plans[i]==\"R\") and (x!=n):             # x값에서 오른쪽으로 이동 했을 때 공간의 크기를 넘어가지 않는조건\n",
        "    x+=1                                     # 오른쪽으로 이동\n",
        "  elif (plans[i]==\"L\") and (x!=1):           # x값에서 왼쪽으로 이동 했을 때 공간의 크기를 넘어가지 않는조건\n",
        "    x-=1                                     # 왼쪽으로 이동\n",
        "  elif (plans[i]==\"U\") and (y!=1):           # y값에서 위쪽으로 이동 했을 때 공간의 크기를 넘어가지 않는조건\n",
        "    y-=1                                     # 위로 이동\n",
        "  elif (plans[i]==\"D\") and (y!=n):           # y값에서 아래 쪽으로 이동 했을 때 공간의 크기를 넘어가지 않는조건\n",
        "    y+=1                                     # 아래로 이동\n",
        "print(f\"(x,y) = ({x},{y})\")                  # x,y좌표 출력\n",
        "\n",
        "    \n",
        "\n"
      ],
      "metadata": {
        "colab": {
          "base_uri": "https://localhost:8080/"
        },
        "id": "rrqaovT0-J95",
        "outputId": "5b19eb15-e8e2-48a5-955a-9d8199f11baa"
      },
      "execution_count": 5,
      "outputs": [
        {
          "output_type": "stream",
          "name": "stdout",
          "text": [
            "공간의 크기 입력:5\n",
            "이동 계획 작성:R R R U D D\n",
            "(x,y) = (4,3)\n"
          ]
        }
      ]
    }
  ]
}