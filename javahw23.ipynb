{
  "nbformat": 4,
  "nbformat_minor": 0,
  "metadata": {
    "colab": {
      "name": "javahw23.ipynb",
      "provenance": [],
      "collapsed_sections": [],
      "authorship_tag": "ABX9TyOIoE96gKu/AviE/J4RGA6j",
      "include_colab_link": true
    },
    "kernelspec": {
      "name": "python3",
      "display_name": "Python 3"
    },
    "language_info": {
      "name": "python"
    }
  },
  "cells": [
    {
      "cell_type": "markdown",
      "metadata": {
        "id": "view-in-github",
        "colab_type": "text"
      },
      "source": [
        "<a href=\"https://colab.research.google.com/github/koreaithw/javaadv/blob/main/javahw23.ipynb\" target=\"_parent\"><img src=\"https://colab.research.google.com/assets/colab-badge.svg\" alt=\"Open In Colab\"/></a>"
      ]
    },
    {
      "cell_type": "code",
      "execution_count": 7,
      "metadata": {
        "id": "SI31u6cmTsR-",
        "colab": {
          "base_uri": "https://localhost:8080/"
        },
        "outputId": "03410c42-1daa-41d1-b93a-7bd068b2dd30"
      },
      "outputs": [
        {
          "output_type": "stream",
          "name": "stdout",
          "text": [
            "나이트 위치 입력(열,행):d4\n",
            "8\n"
          ]
        }
      ],
      "source": [
        "location = input(\"나이트 위치 입력(열,행):\")\n",
        "x = int(location[1])  #입력받은 행-- x값에저장\n",
        "y = int(ord(location[0]))-int(ord('a'))+1 #입력받은 열 y값에 저장,ord로 아스키값을 돌려준후 정수로 변환\n",
        "dxdy = [(-1,-2),(-2,-1),(-2,1),(-1,2),(1,-2),(2,-1),(2,1),(1,2)] #움직일 방향 배열에 쌍으로 저장\n",
        "count=0                             #카운트 초기화\n",
        "for i in dxdy:\n",
        "  row= x+i[0]                       #x값 이동\n",
        "  column = y+i[1]                   #y값 이동\n",
        "  if row >=1 and row<=8 and column>=1 and column<=8: #x,y가 8*8안에 있으면 카운트\n",
        "    count+=1\n",
        "print(count)"
      ]
    }
  ]
}