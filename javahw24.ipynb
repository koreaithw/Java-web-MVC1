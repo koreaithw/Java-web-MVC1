{
  "nbformat": 4,
  "nbformat_minor": 0,
  "metadata": {
    "colab": {
      "name": "javahw24.ipynb",
      "provenance": [],
      "collapsed_sections": [],
      "authorship_tag": "ABX9TyNUp4TdOteAlbyEiJ5OucNi",
      "include_colab_link": true
    },
    "kernelspec": {
      "name": "python3",
      "display_name": "Python 3"
    },
    "language_info": {
      "name": "python"
    }
  },
  "cells": [
    {
      "cell_type": "markdown",
      "metadata": {
        "id": "view-in-github",
        "colab_type": "text"
      },
      "source": [
        "<a href=\"https://colab.research.google.com/github/koreaithw/javaadv/blob/main/javahw24.ipynb\" target=\"_parent\"><img src=\"https://colab.research.google.com/assets/colab-badge.svg\" alt=\"Open In Colab\"/></a>"
      ]
    },
    {
      "cell_type": "code",
      "execution_count": 9,
      "metadata": {
        "colab": {
          "base_uri": "https://localhost:8080/"
        },
        "id": "hOkq4VU56SkP",
        "outputId": "9a626cab-eb80-4473-cfab-894c4aa10598"
      },
      "outputs": [
        {
          "output_type": "stream",
          "name": "stdout",
          "text": [
            "행,열 입력:4 5\n",
            "행 입력:00000\n",
            "행 입력:01010\n",
            "행 입력:11111\n",
            "행 입력:10101\n",
            "3\n"
          ]
        }
      ],
      "source": [
        "#행과 열을 입력받아서 공백을 기준으로 스플릿해서 맵객체를 통해 모두 int형으로 변환후 n과m에 넣음.\n",
        "n,m = map(int,input(\"행,열 입력:\").split(\" \"))\n",
        "icefield = [] #빈 리스트 생성\n",
        "for i in range(n):\n",
        "  #각 행에 넣을 숫자를 입력하면 int로 변환후 리스트로 바꿔서 빈 리스트에 넣는다.\n",
        "  icefield.append(list(map(int,input(\"행 입력:\")))) \n",
        "#상하좌우를 확인하는 함수\n",
        "def checking(x,y):\n",
        "  #상하좌우를 확인할 때 범위를 벗어나면 false 반환.\n",
        "  if x<0 or x>=n or y<0 or y>=m:\n",
        "    return False\n",
        "  # 0 이있으면 다시 이미 체크한 곳으로 만들기 위해 1로 변환\n",
        "  if icefield[x][y]==0:\n",
        "    icefield[x][y]=1\n",
        "    #상하좌우를 돌면서 계속 확인하면서 체크함.\n",
        "    checking(x-1,y)\n",
        "    checking(x+1,y)\n",
        "    checking(x,y-1)\n",
        "    checking(x,y+1)\n",
        "    #0 이있다면 count 해줘야 하기때문에 true 반환.\n",
        "    return True\n",
        "    #원래 값이 1인 필드는 체크 하지 않기위해 false 반환\n",
        "  return False\n",
        "count=0;\n",
        "for i in range(n):\n",
        "  for j in range(m):\n",
        "    if(checking(i,j)): # 입력한 열과 행의 범위를 돌면서 0이 붙어있는곳 확인 \n",
        "      count+=1          #체크\n",
        "print(count)            #출력\n",
        "\n",
        "\n"
      ]
    }
  ]
}